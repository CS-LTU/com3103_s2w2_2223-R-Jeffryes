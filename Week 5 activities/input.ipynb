{
 "cells": [
  {
   "cell_type": "code",
   "execution_count": 2,
   "id": "b55de8ca",
   "metadata": {},
   "outputs": [
    {
     "name": "stdout",
     "output_type": "stream",
     "text": [
      "What is your first name?: Rory\n",
      "What is your last name?: Jeffryes\n",
      "What is your gender?: Male\n",
      "What is your username?: 2216065\n",
      "What is you email address?: 2216065@leedstrinity.ac.uk\n"
     ]
    }
   ],
   "source": [
    "fname = input(\"What is your first name?: \")\n",
    "lname = input(\"What is your last name?: \")\n",
    "gender = input(\"What is your gender?: \")\n",
    "username = input(\"What is your username?: \")\n",
    "email_address = input(\"What is you email address?: \")"
   ]
  },
  {
   "cell_type": "code",
   "execution_count": 3,
   "id": "432b5a83",
   "metadata": {},
   "outputs": [
    {
     "data": {
      "text/plain": [
       "'C:\\\\Users\\\\fyadmin123\\\\Week 3 - semester 2'"
      ]
     },
     "execution_count": 3,
     "metadata": {},
     "output_type": "execute_result"
    }
   ],
   "source": [
    "pwd"
   ]
  },
  {
   "cell_type": "code",
   "execution_count": null,
   "id": "78310582",
   "metadata": {},
   "outputs": [],
   "source": []
  }
 ],
 "metadata": {
  "kernelspec": {
   "display_name": "Python 3 (ipykernel)",
   "language": "python",
   "name": "python3"
  },
  "language_info": {
   "codemirror_mode": {
    "name": "ipython",
    "version": 3
   },
   "file_extension": ".py",
   "mimetype": "text/x-python",
   "name": "python",
   "nbconvert_exporter": "python",
   "pygments_lexer": "ipython3",
   "version": "3.9.13"
  }
 },
 "nbformat": 4,
 "nbformat_minor": 5
}
